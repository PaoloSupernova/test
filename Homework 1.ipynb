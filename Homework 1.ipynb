{
 "cells": [
  {
   "cell_type": "markdown",
   "metadata": {},
   "source": [
    "To complete the homework simply fill in your answers in this jupyter notebook!\n",
    "\n",
    "Remember that there are many ways in which markup cells can be used and you can add useful things such as references and images to better explain your answers.\n",
    "\n",
    "It is perfectly fine if you copy your answer from somewhere else in the internet as long as you understand the code you copied and cite the source. However, refrain from asking help for your colleagues (unless you're really struggling) as the ability to find information online is crucial for any tech role you might want to have in the future.\n",
    "\n",
    "<h1> Question 1: Multiple prints</h1>\n",
    "Create 3 different variables of different types and print their values using a single print statement."
   ]
  },
  {
   "cell_type": "code",
   "execution_count": 1,
   "metadata": {},
   "outputs": [
    {
     "name": "stdout",
     "output_type": "stream",
     "text": [
      "Integer: 48, Float: 3.14, String: Python homework is brilliant!\n"
     ]
    }
   ],
   "source": [
    "\n",
    "integer_variable = 48\n",
    "float_variable = 3.14\n",
    "string_variable = \"Python homework is brilliant!\"\n",
    "\n",
    "print(f\"Integer: {integer_variable}, Float: {float_variable}, String: {string_variable}\")\n"
   ]
  },
  {
   "cell_type": "markdown",
   "metadata": {},
   "source": [
    "<h1> Question 2: Data structures</h1>\n",
    "Create two variables containing each a nested list and a nested dictionary and demonstrate how to access specific items of it."
   ]
  },
  {
   "cell_type": "code",
   "execution_count": 2,
   "metadata": {},
   "outputs": [
    {
     "name": "stdout",
     "output_type": "stream",
     "text": [
      "Element at row 1, column 2 in the nested list: 6\n",
      "Count of apples in the nested dictionary: 2\n",
      "Color code for green in the nested dictionary: 00FF00\n"
     ]
    }
   ],
   "source": [
    "\n",
    "nested_list = [[1, 2, 3], [4, 5, 6], [7, 8, 9]]\n",
    "\n",
    "nested_dict = {\n",
    "    'fruits': {'apple': 2, 'banana': 3, 'orange': 4},\n",
    "    'colors': {'red': 'FF0000', 'green': '00FF00', 'blue': '0000FF'}\n",
    "}\n",
    "\n",
    "element_1_2 = nested_list[1][2] \n",
    "\n",
    "apple_count = nested_dict['fruits']['apple']  \n",
    "green_color = nested_dict['colors']['green']  \n",
    "\n",
    "print(f\"Element at row 1, column 2 in the nested list: {element_1_2}\")\n",
    "print(f\"Count of apples in the nested dictionary: {apple_count}\")\n",
    "print(f\"Color code for green in the nested dictionary: {green_color}\")\n"
   ]
  },
  {
   "cell_type": "markdown",
   "metadata": {},
   "source": [
    "Now consider the following list,"
   ]
  },
  {
   "cell_type": "code",
   "execution_count": 7,
   "metadata": {},
   "outputs": [
    {
     "name": "stdout",
     "output_type": "stream",
     "text": [
      "[1, 2, 3, 4]\n",
      "[2, 4, 6, 8]\n",
      "[3, 6, 9]\n",
      "This is item 1.\n",
      "This is item 2.\n",
      "This is item 3.\n",
      "This is item 4.\n",
      "This is item 5.\n",
      "This is item 6.\n",
      "This is item 7.\n",
      "This is item 8.\n",
      "This is item 9.\n",
      "This is item 1. This is item 2. This is item 3. This is item 4. This is item 5. This is item 6. This is item 7. This is item 8. This is item 9.\n"
     ]
    }
   ],
   "source": [
    "a_list = [1,2,3,4,5,6,7,8,9]\n",
    "\n",
    "filtered_list = [x for x in a_list if x < 5]\n",
    "\n",
    "print(filtered_list)\n",
    "\n",
    "even_numbers = [x for x in a_list if x % 2 == 0]\n",
    "\n",
    "print(even_numbers)\n",
    "\n",
    "multiples_of_three = [x for x in a_list if x % 3 == 0]\n",
    "\n",
    "print(multiples_of_three)\n",
    "for item in a_list:\n",
    "    print(f\"This is item {item}.\")\n",
    "\n",
    "sentence_list = [f\"This is item {item}.\" for item in a_list]\n",
    "resulting_sentence = ' '.join(sentence_list)\n",
    "print(resulting_sentence)"
   ]
  },
  {
   "cell_type": "markdown",
   "metadata": {},
   "source": [
    "1 - slice this list (by index) to contain only the numbers smaller than 5; <br>\n",
    "2 - make a loop to create a new list containing only the EVEN numbers of this list (bonus point if you use a list comprehension!!);<br>\n",
    "3 - make a loop to create a new list containing only the numbers that are multiples of 3;<br>\n",
    "Bonus - make a loop that will print every item on the list inside a sentence using a f-string."
   ]
  },
  {
   "cell_type": "markdown",
   "metadata": {},
   "source": [
    "<h1>Question 3: Creating functions</h1>\n",
    "\n",
    "Create a function that takes a list of numbers and convert them into strings. (bonus point if you use a list comprehension!!)"
   ]
  },
  {
   "cell_type": "code",
   "execution_count": 9,
   "metadata": {},
   "outputs": [
    {
     "name": "stdout",
     "output_type": "stream",
     "text": [
      "['1', '2', '3', '4', '5']\n"
     ]
    }
   ],
   "source": [
    "def numbers_to_strings(number_list):\n",
    "    # Use list comprehension to convert numbers to strings\n",
    "    string_list = [str(num) for num in number_list]\n",
    "    return string_list\n",
    "\n",
    "# Example usage:\n",
    "original_numbers = [1, 2, 3, 4, 5]\n",
    "string_numbers = numbers_to_strings(original_numbers)\n",
    "print(string_numbers)\n"
   ]
  },
  {
   "cell_type": "code",
   "execution_count": 10,
   "metadata": {},
   "outputs": [
    {
     "data": {
      "text/plain": [
       "'1'"
      ]
     },
     "execution_count": 10,
     "metadata": {},
     "output_type": "execute_result"
    }
   ],
   "source": [
    "variable = 1\n",
    "str(variable)"
   ]
  },
  {
   "cell_type": "code",
   "execution_count": 11,
   "metadata": {},
   "outputs": [],
   "source": [
    "yet_another_list = []"
   ]
  },
  {
   "cell_type": "code",
   "execution_count": 12,
   "metadata": {},
   "outputs": [
    {
     "data": {
      "text/plain": [
       "[]"
      ]
     },
     "execution_count": 12,
     "metadata": {},
     "output_type": "execute_result"
    }
   ],
   "source": [
    "yet_another_list"
   ]
  },
  {
   "cell_type": "code",
   "execution_count": 13,
   "metadata": {},
   "outputs": [],
   "source": [
    "yet_another_list.append('cat')"
   ]
  },
  {
   "cell_type": "code",
   "execution_count": 14,
   "metadata": {},
   "outputs": [
    {
     "data": {
      "text/plain": [
       "['cat']"
      ]
     },
     "execution_count": 14,
     "metadata": {},
     "output_type": "execute_result"
    }
   ],
   "source": [
    "yet_another_list"
   ]
  },
  {
   "cell_type": "code",
   "execution_count": null,
   "metadata": {},
   "outputs": [],
   "source": []
  },
  {
   "cell_type": "code",
   "execution_count": 15,
   "metadata": {},
   "outputs": [],
   "source": [
    "def numberToString(the_list):\n",
    "    another_list = []\n",
    "    \n",
    "    for item in the_list:    \n",
    "        converted_item = str(item)\n",
    "        another_list.append(converted_item)\n",
    "        \n",
    "    return(another_list)"
   ]
  },
  {
   "cell_type": "code",
   "execution_count": null,
   "metadata": {},
   "outputs": [],
   "source": []
  },
  {
   "cell_type": "code",
   "execution_count": 16,
   "metadata": {},
   "outputs": [
    {
     "data": {
      "text/plain": [
       "['1', '2', '3', '4', '5']"
      ]
     },
     "execution_count": 16,
     "metadata": {},
     "output_type": "execute_result"
    }
   ],
   "source": [
    "my_list = [1,2,3,4,5]\n",
    "\n",
    "numberToString(the_list=my_list)"
   ]
  },
  {
   "cell_type": "code",
   "execution_count": 17,
   "metadata": {},
   "outputs": [
    {
     "data": {
      "text/plain": [
       "['1', '2', '3', '4', '5']"
      ]
     },
     "execution_count": 17,
     "metadata": {},
     "output_type": "execute_result"
    }
   ],
   "source": [
    "new_list = [str(number) for number in my_list]\n",
    "new_list"
   ]
  },
  {
   "cell_type": "code",
   "execution_count": 18,
   "metadata": {},
   "outputs": [
    {
     "data": {
      "text/plain": [
       "['0', '1', '2', '3', '4', '5', '6', '7', '8', '9']"
      ]
     },
     "execution_count": 18,
     "metadata": {},
     "output_type": "execute_result"
    }
   ],
   "source": [
    "new_list = [str(number) for number in range(10)]\n",
    "new_list"
   ]
  },
  {
   "cell_type": "markdown",
   "metadata": {},
   "source": [
    "Create a small calculator. The function should pick two numbers and perform one of four mathematical operations with it (sum/subtraction, division, multiplication, exponents). The desired operation should be an option (hint: what IF the user wants to do a sum?)\n",
    "\n",
    "Bonus: Make a function that can pick ANY number of numbers."
   ]
  },
  {
   "cell_type": "code",
   "execution_count": 1,
   "metadata": {},
   "outputs": [
    {
     "name": "stdout",
     "output_type": "stream",
     "text": [
      "\n",
      "Options:\n",
      "1. Perform operation on two numbers\n",
      "2. Perform operation on multiple numbers\n",
      "3. Quit\n",
      "Choose an operation:\n",
      "1. Addition\n",
      "2. Subtraction\n",
      "3. Multiplication\n",
      "4. Division\n",
      "5. Exponentiation\n",
      "Result: 12.0 + 13.0 = 25.0\n",
      "\n",
      "Options:\n",
      "1. Perform operation on two numbers\n",
      "2. Perform operation on multiple numbers\n",
      "3. Quit\n",
      "Invalid input! Please choose a valid option.\n",
      "\n",
      "Options:\n",
      "1. Perform operation on two numbers\n",
      "2. Perform operation on multiple numbers\n",
      "3. Quit\n",
      "Invalid input! Please choose a valid option.\n",
      "\n",
      "Options:\n",
      "1. Perform operation on two numbers\n",
      "2. Perform operation on multiple numbers\n",
      "3. Quit\n",
      "Invalid input! Please choose a valid option.\n",
      "\n",
      "Options:\n",
      "1. Perform operation on two numbers\n",
      "2. Perform operation on multiple numbers\n",
      "3. Quit\n",
      "Invalid input! Please choose a valid option.\n",
      "\n",
      "Options:\n",
      "1. Perform operation on two numbers\n",
      "2. Perform operation on multiple numbers\n",
      "3. Quit\n",
      "Invalid input! Please choose a valid option.\n",
      "\n",
      "Options:\n",
      "1. Perform operation on two numbers\n",
      "2. Perform operation on multiple numbers\n",
      "3. Quit\n",
      "Invalid input! Please choose a valid option.\n",
      "\n",
      "Options:\n",
      "1. Perform operation on two numbers\n",
      "2. Perform operation on multiple numbers\n",
      "3. Quit\n",
      "Goodbye!\n"
     ]
    }
   ],
   "source": [
    "def add(x, y):\n",
    "    return x + y\n",
    "\n",
    "def subtract(x, y):\n",
    "    return x - y\n",
    "\n",
    "def multiply(x, y):\n",
    "    return x * y\n",
    "\n",
    "def divide(x, y):\n",
    "    if y == 0:\n",
    "        return \"Cannot divide by zero!\"\n",
    "    return x / y\n",
    "\n",
    "def exponentiate(x, y):\n",
    "    return x ** y\n",
    "\n",
    "def perform_operation():\n",
    "    print(\"Choose an operation:\")\n",
    "    print(\"1. Addition\")\n",
    "    print(\"2. Subtraction\")\n",
    "    print(\"3. Multiplication\")\n",
    "    print(\"4. Division\")\n",
    "    print(\"5. Exponentiation\")\n",
    "    \n",
    "    choice = input(\"Enter your choice (1/2/3/4/5): \")\n",
    "    \n",
    "    num1 = float(input(\"Enter the first number: \"))\n",
    "    num2 = float(input(\"Enter the second number: \"))\n",
    "    \n",
    "    if choice == '1':\n",
    "        result = add(num1, num2)\n",
    "        print(f\"Result: {num1} + {num2} = {result}\")\n",
    "    elif choice == '2':\n",
    "        result = subtract(num1, num2)\n",
    "        print(f\"Result: {num1} - {num2} = {result}\")\n",
    "    elif choice == '3':\n",
    "        result = multiply(num1, num2)\n",
    "        print(f\"Result: {num1} * {num2} = {result}\")\n",
    "    elif choice == '4':\n",
    "        result = divide(num1, num2)\n",
    "        print(f\"Result: {num1} / {num2} = {result}\")\n",
    "    elif choice == '5':\n",
    "        result = exponentiate(num1, num2)\n",
    "        print(f\"Result: {num1} ^ {num2} = {result}\")\n",
    "    else:\n",
    "        print(\"Invalid input! Please choose a valid operation.\")\n",
    "\n",
    "def perform_multi_operation():\n",
    "    print(\"Choose an operation:\")\n",
    "    print(\"1. Addition\")\n",
    "    print(\"2. Subtraction\")\n",
    "    print(\"3. Multiplication\")\n",
    "    print(\"4. Division\")\n",
    "    print(\"5. Exponentiation\")\n",
    "    \n",
    "    choice = input(\"Enter your choice (1/2/3/4/5): \")\n",
    "    \n",
    "    num_list = []\n",
    "    num_count = int(input(\"Enter the number of numbers you want to operate on: \"))\n",
    "    \n",
    "    for i in range(num_count):\n",
    "        num = float(input(f\"Enter number {i + 1}: \"))\n",
    "        num_list.append(num)\n",
    "    \n",
    "    if choice == '1':\n",
    "        result = sum(num_list)\n",
    "        print(f\"Result: {'+'.join(map(str, num_list))} = {result}\")\n",
    "    elif choice == '2':\n",
    "        result = num_list[0] - sum(num_list[1:])\n",
    "        print(f\"Result: {num_list[0]} - {'-'.join(map(str, num_list[1:]))} = {result}\")\n",
    "    elif choice == '3':\n",
    "        result = 1\n",
    "        for num in num_list:\n",
    "            result *= num\n",
    "        print(f\"Result: {'*'.join(map(str, num_list))} = {result}\")\n",
    "    elif choice == '4':\n",
    "        result = num_list[0]\n",
    "        for num in num_list[1:]:\n",
    "            if num == 0:\n",
    "                print(\"Cannot divide by zero!\")\n",
    "                return\n",
    "            result /= num\n",
    "        print(f\"Result: {num_list[0]} / {'/'.join(map(str, num_list[1:]))} = {result}\")\n",
    "    elif choice == '5':\n",
    "        result = 1\n",
    "        for num in num_list:\n",
    "            result **= num\n",
    "        print(f\"Result: {'^'.join(map(str, num_list))} = {result}\")\n",
    "    else:\n",
    "        print(\"Invalid input! Please choose a valid operation.\")\n",
    "\n",
    "while True:\n",
    "    print(\"\\nOptions:\")\n",
    "    print(\"1. Perform operation on two numbers\")\n",
    "    print(\"2. Perform operation on multiple numbers\")\n",
    "    print(\"3. Quit\")\n",
    "    \n",
    "    option = input(\"Enter your choice (1/2/3): \")\n",
    "    \n",
    "    if option == '1':\n",
    "        perform_operation()\n",
    "    elif option == '2':\n",
    "        perform_multi_operation()\n",
    "    elif option == '3':\n",
    "        print(\"Goodbye!\")\n",
    "        break\n",
    "    else:\n",
    "        print(\"Invalid input! Please choose a valid option.\")\n"
   ]
  },
  {
   "cell_type": "markdown",
   "metadata": {},
   "source": [
    "Create a function that check if a number is within a list of numbers."
   ]
  },
  {
   "cell_type": "code",
   "execution_count": 2,
   "metadata": {},
   "outputs": [
    {
     "name": "stdout",
     "output_type": "stream",
     "text": [
      "3 is in the list.\n"
     ]
    }
   ],
   "source": [
    "def is_number_in_list(number, num_list):\n",
    "    \n",
    "    return number in num_list\n",
    "\n",
    "# Example usage:\n",
    "numbers = [1, 2, 3, 4, 5]\n",
    "search_number = 3\n",
    "\n",
    "if is_number_in_list(search_number, numbers):\n",
    "    print(f\"{search_number} is in the list.\")\n",
    "else:\n",
    "    print(f\"{search_number} is not in the list.\")\n"
   ]
  },
  {
   "cell_type": "markdown",
   "metadata": {},
   "source": [
    "Bonus: similar to the item above, create a function that checks if a string contains a given substring, e.g. 'I have a cat' contains the string sequence 'cat' or 'ave'."
   ]
  },
  {
   "cell_type": "code",
   "execution_count": 3,
   "metadata": {},
   "outputs": [
    {
     "name": "stdout",
     "output_type": "stream",
     "text": [
      "'cucumber' is in the string.\n",
      "'have' is in the string.\n"
     ]
    }
   ],
   "source": [
    "def contains_substring(input_string, substring):\n",
    "   \n",
    "    return substring in input_string\n",
    "\n",
    "# Example usage:\n",
    "input_string = \"I have a cucumber\"\n",
    "substring1 = \"cucumber\"\n",
    "substring2 = \"have\"\n",
    "\n",
    "if contains_substring(input_string, substring1):\n",
    "    print(f\"'{substring1}' is in the string.\")\n",
    "else:\n",
    "    print(f\"'{substring1}' is not in the string.\")\n",
    "\n",
    "if contains_substring(input_string, substring2):\n",
    "    print(f\"'{substring2}' is in the string.\")\n",
    "else:\n",
    "    print(f\"'{substring2}' is not in the string.\")\n"
   ]
  },
  {
   "cell_type": "markdown",
   "metadata": {},
   "source": [
    "Bonus: create a function that given the initial speed of a projectile that is thrown at 90 degrees will calculate how much time the projectile will take to get back to the initial altitude. (yes you're expected to disregard air resistence)"
   ]
  },
  {
   "cell_type": "code",
   "execution_count": 4,
   "metadata": {},
   "outputs": [
    {
     "name": "stdout",
     "output_type": "stream",
     "text": [
      "The time it takes for the projectile to return is 2.04 seconds.\n"
     ]
    }
   ],
   "source": [
    "def calculate_time_to_return(initial_velocity, gravity=9.8):\n",
    "    \n",
    "    if initial_velocity <= 0:\n",
    "        return \"Initial velocity must be greater than zero.\"\n",
    "    return (2 * initial_velocity) / gravity\n",
    "\n",
    "# Example usage:\n",
    "initial_speed = 10.0  # meters per second\n",
    "time_to_return = calculate_time_to_return(initial_speed)\n",
    "print(f\"The time it takes for the projectile to return is {time_to_return:.2f} seconds.\")\n"
   ]
  },
  {
   "cell_type": "markdown",
   "metadata": {},
   "source": [
    "<h1>solve these questions...or ELSE</h1>\n",
    "\n",
    "Why the nested if statement below doesn't only produce the first print? Can you modify it so it produces the desired output?"
   ]
  },
  {
   "cell_type": "code",
   "execution_count": 6,
   "metadata": {},
   "outputs": [
    {
     "name": "stdout",
     "output_type": "stream",
     "text": [
      "Yeeeey!\n"
     ]
    }
   ],
   "source": [
    "food = 'Pizza'\n",
    "drinks = 'Beer'\n",
    "\n",
    "if food == 'Pizza' and drinks == 'Beer':\n",
    "    print('Yeeeey!')\n",
    "elif food == 'Pizza' and drinks != 'Beer':\n",
    "    print('Yey.')\n",
    "elif food != 'Pizza' and drinks == 'Beer':\n",
    "    print('Yey!')\n",
    "else:\n",
    "    print('.....???')\n"
   ]
  },
  {
   "cell_type": "markdown",
   "metadata": {},
   "source": [
    "<h1> Debugging </h1>\n",
    "None of the blocks of code below work. Your task is to make them work (if possible!) and add markup cells (or comments) explaining why they don't work."
   ]
  },
  {
   "cell_type": "markdown",
   "metadata": {},
   "source": [
    "print(\"Is this working?\")"
   ]
  },
  {
   "cell_type": "code",
   "execution_count": 9,
   "metadata": {},
   "outputs": [
    {
     "name": "stdout",
     "output_type": "stream",
     "text": [
      "does this work?\n"
     ]
    }
   ],
   "source": [
    "print(\"does this work?\") #I removed the commments code to allow it to work."
   ]
  },
  {
   "cell_type": "code",
   "execution_count": 10,
   "metadata": {},
   "outputs": [
    {
     "name": "stdout",
     "output_type": "stream",
     "text": [
      "about now?\n"
     ]
    }
   ],
   "source": [
    "print(\"about now?\")"
   ]
  },
  {
   "cell_type": "code",
   "execution_count": 13,
   "metadata": {},
   "outputs": [
    {
     "name": "stdout",
     "output_type": "stream",
     "text": [
      "Today on a scale from 1 to 10 I am feeling... 10\n"
     ]
    }
   ],
   "source": [
    "text_variable = \"Today on a scale from 1 to 10 I am feeling...\"\n",
    "my_mood = 10\n",
    "print(text_variable, my_mood) #I added in a comma to concatenate both strings."
   ]
  },
  {
   "cell_type": "code",
   "execution_count": 14,
   "metadata": {},
   "outputs": [
    {
     "name": "stdout",
     "output_type": "stream",
     "text": [
      "Today on a scale from 1 to 10 I am feeling...10\n"
     ]
    }
   ],
   "source": [
    "text_variable = \"Today on a scale from 1 to 10 I am feeling...\"\n",
    "my_mood = 10\n",
    "print(text_variable + str(my_mood)) #I converted my_mood to a string which allowed me to use + to concatenate both strings."
   ]
  },
  {
   "cell_type": "code",
   "execution_count": 15,
   "metadata": {},
   "outputs": [],
   "source": [
    "a_dictionary = {'item1': 'Value 1', 'item2': 'value 2'}\n",
    "\n",
    "#I removed the trailing comma and used single quotes to make them string keys."
   ]
  },
  {
   "cell_type": "code",
   "execution_count": 17,
   "metadata": {},
   "outputs": [],
   "source": [
    "my_variable = 1  # Assigns the value 1 to the variable 'my_variable' Stings cannot start with a number.\n"
   ]
  },
  {
   "cell_type": "code",
   "execution_count": 20,
   "metadata": {},
   "outputs": [
    {
     "name": "stdout",
     "output_type": "stream",
     "text": [
      "Clap your hands\n"
     ]
    }
   ],
   "source": [
    "# Why isn't the outcome 'Clap your hands?'\n",
    "mood = 'happy'\n",
    "if mood == 'happy':\n",
    "    print('Clap your hands')\n",
    "else:\n",
    "    print('...do I look like I have this one figured out?')\n",
    "\n",
    "    #The outcome is not 'Clap your hands' because the comparison mood == 'Happy' is case-sensitive in Python."
   ]
  },
  {
   "cell_type": "code",
   "execution_count": 22,
   "metadata": {},
   "outputs": [
    {
     "name": "stdout",
     "output_type": "stream",
     "text": [
      "a word another word\n"
     ]
    }
   ],
   "source": [
    "def printerfunction(x,y):\n",
    "    print(x,y)\n",
    "\n",
    "printerfunction(\"a word\", \"another word\")\n",
    "\n",
    "#Indented the print command which is required in Python"
   ]
  },
  {
   "cell_type": "code",
   "execution_count": 24,
   "metadata": {},
   "outputs": [
    {
     "name": "stdout",
     "output_type": "stream",
     "text": [
      "Clap your hands\n"
     ]
    }
   ],
   "source": [
    "# bonus/annoying round, why is this crashing?\n",
    "mood = 'happy'\n",
    "if mood == 'happy':\n",
    "   print('Clap your hands')\n",
    "else:\n",
    "    print('...do I look like I have this one figured out?')\n",
    "\n",
    "    #Case mismatch with Happy/happy"
   ]
  }
 ],
 "metadata": {
  "kernelspec": {
   "display_name": "Python 3 (ipykernel)",
   "language": "python",
   "name": "python3"
  },
  "language_info": {
   "codemirror_mode": {
    "name": "ipython",
    "version": 3
   },
   "file_extension": ".py",
   "mimetype": "text/x-python",
   "name": "python",
   "nbconvert_exporter": "python",
   "pygments_lexer": "ipython3",
   "version": "3.12.1"
  }
 },
 "nbformat": 4,
 "nbformat_minor": 4
}
